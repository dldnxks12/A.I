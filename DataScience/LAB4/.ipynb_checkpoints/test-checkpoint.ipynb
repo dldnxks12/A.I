{
 "cells": [
  {
   "cell_type": "code",
   "execution_count": 14,
   "id": "95abc683",
   "metadata": {},
   "outputs": [],
   "source": [
    "import nltk\n",
    "import numpy as np\n",
    "import pandas as pd\n",
    "import string\n",
    "import re\n",
    "import matplotlib.pyplot as plt\n",
    "\n",
    "import warnings\n",
    "from sklearn.svm import SVC\n",
    "from sklearn.ensemble import RandomForestClassifier\n",
    "from sklearn.ensemble import GradientBoostingClassifier\n",
    "from sklearn.model_selection import GridSearchCV\n",
    "from sklearn.feature_extraction.text import CountVectorizer\n",
    "from sklearn.feature_extraction.text import TfidfVectorizer\n",
    "\n",
    "\n",
    "# Load Dataset\n",
    "pd.set_option('display.max_colwidth', 100)\n",
    "data = pd.read_csv('./data/movie_data.csv', sep = ',')\n",
    "\n",
    "data = data.sample(frac = 1)\n",
    "data = data[:1000]"
   ]
  },
  {
   "cell_type": "code",
   "execution_count": 15,
   "id": "d1ac0a4a",
   "metadata": {
    "scrolled": true
   },
   "outputs": [],
   "source": [
    "#Processing\n",
    "stopwords = nltk.corpus.stopwords.words('english')\n",
    "ps = nltk.WordNetLemmatizer()\n",
    "\n",
    "def clean_text(text):\n",
    "    # Remove Punctuation\n",
    "    text = ''.join([word.lower() for word in text if word not in string.punctuation])\n",
    "    # make Token\n",
    "    tokens = re.split('\\W+', text)\n",
    "    # Remove StopWords and make Stem\n",
    "    text = [ps.lemmatize(word) for word in tokens if word not in stopwords]\n",
    "    return text"
   ]
  },
  {
   "cell_type": "code",
   "execution_count": 16,
   "id": "653b504e",
   "metadata": {},
   "outputs": [
    {
     "name": "stderr",
     "output_type": "stream",
     "text": [
      "C:\\Users\\USER\\anaconda3\\envs\\torch_env\\lib\\site-packages\\sklearn\\utils\\deprecation.py:87: FutureWarning: Function get_feature_names is deprecated; get_feature_names is deprecated in 1.0 and will be removed in 1.2. Please use get_feature_names_out instead.\n",
      "  warnings.warn(msg, category=FutureWarning)\n"
     ]
    }
   ],
   "source": [
    "# Vectorization -- TF-IDF \n",
    "TFIDF_Vect = TfidfVectorizer(analyzer = clean_text)\n",
    "X_TFIDF = TFIDF_Vect.fit_transform(data['review'])\n",
    "X_TFIDF_pd = pd.DataFrame(X_TFIDF.toarray(), columns = TFIDF_Vect.get_feature_names())"
   ]
  },
  {
   "cell_type": "code",
   "execution_count": null,
   "id": "033942b4",
   "metadata": {
    "scrolled": true
   },
   "outputs": [],
   "source": [
    "warnings.filterwarnings('ignore', category = DeprecationWarning)\n",
    "\n",
    "rf = RandomForestClassifier()\n",
    "param = {'n_estimators' : [10, 150, 300],\n",
    "         'max_depth' : [30, 60, 90, None]}\n",
    "\n",
    "gs = GridSearchCV(rf, param, cv = 5, n_jobs = 4)\n",
    "gs_fit = gs.fit(X_TFIDF_pd, data['sentiment'])\n",
    "result1 = pd.DataFrame(gs_fit.cv_results_).sort_values('mean_test_score', ascending = False)"
   ]
  },
  {
   "cell_type": "code",
   "execution_count": 5,
   "id": "96637f61",
   "metadata": {},
   "outputs": [
    {
     "name": "stdout",
     "output_type": "stream",
     "text": [
      "   mean_fit_time  std_fit_time  mean_score_time  std_score_time param_C  \\\n",
      "2      56.524472      5.195961         5.756372        0.701491       5   \n",
      "3      59.492558      0.261674         6.012214        0.339322       5   \n",
      "1      61.335530      0.805405         6.645065        0.209664       1   \n",
      "0      57.665804      2.701728         5.599381        1.200460       1   \n",
      "\n",
      "  param_gamma                  params  split0_test_score  split1_test_score  \\\n",
      "2         0.1  {'C': 5, 'gamma': 0.1}           0.790419           0.790419   \n",
      "3         0.5  {'C': 5, 'gamma': 0.5}           0.796407           0.802395   \n",
      "1         0.5  {'C': 1, 'gamma': 0.5}           0.772455           0.772455   \n",
      "0         0.1  {'C': 1, 'gamma': 0.1}           0.502994           0.502994   \n",
      "\n",
      "   split2_test_score  mean_test_score  std_test_score  rank_test_score  \n",
      "2           0.807229         0.796022        0.007924                1  \n",
      "3           0.789157         0.795986        0.005413                2  \n",
      "1           0.777108         0.774006        0.002194                3  \n",
      "0           0.500000         0.501996        0.001411                4  \n"
     ]
    }
   ],
   "source": [
    "svc = SVC(kernel = 'rbf' , probability=True)\n",
    "param = {'gamma' : [0.1, 0.5, 1],\n",
    "         'C' : [1, 5, 10]}\n",
    "\n",
    "gs2 = GridSearchCV(svc, param, cv = 5, n_jobs = 4)\n",
    "gs_fit2 = gs2.fit(X_TFIDF_pd, data['sentiment'])\n",
    "result2 = pd.DataFrame(gs_fit2.cv_results_).sort_values('mean_test_score', ascending = False)"
   ]
  },
  {
   "cell_type": "code",
   "execution_count": 6,
   "id": "e02198c8",
   "metadata": {},
   "outputs": [
    {
     "name": "stdout",
     "output_type": "stream",
     "text": [
      "   mean_fit_time  std_fit_time  mean_score_time  std_score_time  \\\n",
      "1      29.635545      0.327500           0.1215        0.004501   \n",
      "0       2.683498      0.025499           0.1470        0.012998   \n",
      "\n",
      "  param_n_estimators                 params  split0_test_score  \\\n",
      "1                150  {'n_estimators': 150}              0.680   \n",
      "0                 10   {'n_estimators': 10}              0.652   \n",
      "\n",
      "   split1_test_score  mean_test_score  std_test_score  rank_test_score  \n",
      "1              0.672            0.676           0.004                1  \n",
      "0              0.676            0.664           0.012                2  \n"
     ]
    }
   ],
   "source": [
    "gbc = GradientBoostingClassifier()\n",
    "param = {'n_estimators' : [100, 300, 500]}\n",
    "\n",
    "gs3 = GridSearchCV(gbc, param, cv = 5, n_jobs = 4)\n",
    "gs_fit3 = gs3.fit(X_TFIDF_pd, data['sentiment'])\n",
    "result3 = pd.DataFrame(gs_fit3.cv_results_).sort_values('mean_test_score', ascending = False)"
   ]
  },
  {
   "cell_type": "code",
   "execution_count": null,
   "id": "fad76f3a",
   "metadata": {},
   "outputs": [],
   "source": []
  }
 ],
 "metadata": {
  "kernelspec": {
   "display_name": "torch_env",
   "language": "python",
   "name": "torch_env"
  },
  "language_info": {
   "codemirror_mode": {
    "name": "ipython",
    "version": 3
   },
   "file_extension": ".py",
   "mimetype": "text/x-python",
   "name": "python",
   "nbconvert_exporter": "python",
   "pygments_lexer": "ipython3",
   "version": "3.7.11"
  }
 },
 "nbformat": 4,
 "nbformat_minor": 5
}
