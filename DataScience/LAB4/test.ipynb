{
 "cells": [
  {
   "cell_type": "code",
   "execution_count": 1,
   "id": "95abc683",
   "metadata": {},
   "outputs": [],
   "source": [
    "import nltk\n",
    "import numpy as np\n",
    "import pandas as pd\n",
    "import string\n",
    "import re\n",
    "import matplotlib.pyplot as plt\n",
    "\n",
    "import warnings\n",
    "from sklearn.svm import SVC\n",
    "from sklearn.ensemble import RandomForestClassifier\n",
    "from sklearn.ensemble import GradientBoostingClassifier\n",
    "from sklearn.model_selection import GridSearchCV\n",
    "from sklearn.feature_extraction.text import CountVectorizer\n",
    "from sklearn.feature_extraction.text import TfidfVectorizer\n",
    "\n",
    "from sklearn.model_selection import train_test_split\n",
    "\n",
    "# Load Dataset\n",
    "data = pd.read_csv('./data/movie_data.csv', sep = ',')\n",
    "\n",
    "data = data.sample(frac = 1)\n",
    "data = data[:10000]"
   ]
  },
  {
   "cell_type": "code",
   "execution_count": 2,
   "id": "d1ac0a4a",
   "metadata": {
    "scrolled": true
   },
   "outputs": [],
   "source": [
    "#Processing\n",
    "stopwords = nltk.corpus.stopwords.words('english')\n",
    "ps = nltk.WordNetLemmatizer()\n",
    "\n",
    "def clean_text(text):\n",
    "    # Remove Punctuation\n",
    "    text = ''.join([word.lower() for word in text if word not in string.punctuation])\n",
    "    # make Token\n",
    "    tokens = re.split('\\W+', text)\n",
    "    # Remove StopWords and make Stem\n",
    "    text = [ps.lemmatize(word) for word in tokens if word not in stopwords]\n",
    "    return text"
   ]
  },
  {
   "cell_type": "code",
   "execution_count": 3,
   "id": "653b504e",
   "metadata": {},
   "outputs": [
    {
     "name": "stderr",
     "output_type": "stream",
     "text": [
      "C:\\Users\\USER\\anaconda3\\envs\\torch_env\\lib\\site-packages\\sklearn\\utils\\deprecation.py:87: FutureWarning: Function get_feature_names is deprecated; get_feature_names is deprecated in 1.0 and will be removed in 1.2. Please use get_feature_names_out instead.\n",
      "  warnings.warn(msg, category=FutureWarning)\n"
     ]
    }
   ],
   "source": [
    "# Vectorization -- TF-IDF \n",
    "TFIDF_Vect = TfidfVectorizer(analyzer = clean_text)\n",
    "X_TFIDF = TFIDF_Vect.fit_transform(data['review'])\n",
    "X_TFIDF_pd = pd.DataFrame(X_TFIDF.toarray(), columns = TFIDF_Vect.get_feature_names())"
   ]
  },
  {
   "cell_type": "code",
   "execution_count": 4,
   "id": "033942b4",
   "metadata": {
    "scrolled": true
   },
   "outputs": [],
   "source": [
    "warnings.filterwarnings('ignore', category = DeprecationWarning)\n",
    "\n",
    "rf = RandomForestClassifier()\n",
    "param = {'n_estimators' : [10, 150, 300],\n",
    "         'max_depth' : [30, 60, 90, None]}\n",
    "\n",
    "gs = GridSearchCV(rf, param, cv = 3, n_jobs =4)\n",
    "gs_fit = gs.fit(X_TFIDF_pd, data['sentiment'])\n",
    "result1 = pd.DataFrame(gs_fit.cv_results_).sort_values('mean_test_score', ascending = False)"
   ]
  },
  {
   "cell_type": "code",
   "execution_count": null,
   "id": "96637f61",
   "metadata": {},
   "outputs": [],
   "source": [
    "svc = SVC(kernel = 'rbf' , probability=True)\n",
    "param = {'gamma' : [0.1, 0.5, 1],\n",
    "         'C' : [1, 5, 10]}\n",
    "\n",
    "gs2 = GridSearchCV(svc, param, cv = 3, n_jobs = 4)\n",
    "gs_fit2 = gs2.fit(X_TFIDF_pd, data['sentiment'])\n",
    "result2 = pd.DataFrame(gs_fit2.cv_results_).sort_values('mean_test_score', ascending = False)"
   ]
  },
  {
   "cell_type": "code",
   "execution_count": null,
   "id": "e02198c8",
   "metadata": {},
   "outputs": [],
   "source": [
    "gbc = GradientBoostingClassifier()\n",
    "param = {'n_estimators' : [100, 300, 500]}\n",
    "\n",
    "gs3 = GridSearchCV(gbc, param, cv = 3, n_jobs = 4)\n",
    "gs_fit3 = gs3.fit(X_TFIDF_pd, data['sentiment'])\n",
    "result3 = pd.DataFrame(gs_fit3.cv_results_).sort_values('mean_test_score', ascending = False)"
   ]
  },
  {
   "cell_type": "code",
   "execution_count": null,
   "id": "866f256e",
   "metadata": {},
   "outputs": [],
   "source": [
    "rf_scores = result1['mean_test_score']\n",
    "rf_scores"
   ]
  },
  {
   "cell_type": "code",
   "execution_count": null,
   "id": "0ee1b184",
   "metadata": {},
   "outputs": [],
   "source": [
    "svm_scores = result2['mean_test_score']\n",
    "svm_scores"
   ]
  },
  {
   "cell_type": "code",
   "execution_count": null,
   "id": "a3208d6c",
   "metadata": {},
   "outputs": [],
   "source": [
    "gb_scores = result3['mean_test_score']\n",
    "gb_scores"
   ]
  },
  {
   "cell_type": "code",
   "execution_count": 67,
   "id": "94dc5fbf",
   "metadata": {},
   "outputs": [],
   "source": [
    "rf_scores = np.array(rf_scores)\n",
    "svm_scores = np.array(svm_scores)\n",
    "gb_scores = np.array(gb_scores)"
   ]
  },
  {
   "cell_type": "code",
   "execution_count": 70,
   "id": "87a58e58",
   "metadata": {},
   "outputs": [
    {
     "data": {
      "image/png": "[encoded data removed]",
      "text/plain": [
       "<Figure size 432x288 with 1 Axes>"
      ]
     },
     "metadata": {
      "needs_background": "light"
     },
     "output_type": "display_data"
    }
   ],
   "source": [
    "%matplotlib inline\n",
    "\n",
    "x = np.array([1,2,3])\n",
    "plt.figure()\n",
    "plt.scatter(x, rf_scores, c = 'r')\n",
    "plt.scatter(x, svm_scores, c = 'b')\n",
    "plt.scatter(x, gb_scores, c = 'g')\n",
    "plt.xlabel(\"Order\")\n",
    "plt.ylabel(\"Score\")\n",
    "plt.show()"
   ]
  },
  {
   "cell_type": "code",
   "execution_count": null,
   "id": "ae1cad14",
   "metadata": {},
   "outputs": [],
   "source": []
  }
 ],
 "metadata": {
  "kernelspec": {
   "display_name": "torch_env",
   "language": "python",
   "name": "torch_env"
  },
  "language_info": {
   "codemirror_mode": {
    "name": "ipython",
    "version": 3
   },
   "file_extension": ".py",
   "mimetype": "text/x-python",
   "name": "python",
   "nbconvert_exporter": "python",
   "pygments_lexer": "ipython3",
   "version": "3.7.11"
  }
 },
 "nbformat": 4,
 "nbformat_minor": 5
}
