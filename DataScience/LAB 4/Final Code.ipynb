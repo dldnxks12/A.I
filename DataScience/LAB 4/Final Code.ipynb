{
 "cells": [
  {
   "cell_type": "markdown",
   "id": "234da97e",
   "metadata": {},
   "source": [
    "### Import Modules "
   ]
  },
  {
   "cell_type": "code",
   "execution_count": 68,
   "id": "95abc683",
   "metadata": {},
   "outputs": [],
   "source": [
    "import nltk\n",
    "import numpy as np\n",
    "import pandas as pd\n",
    "import string\n",
    "import re\n",
    "import matplotlib.pyplot as plt\n",
    "\n",
    "import warnings\n",
    "from sklearn.svm import SVC\n",
    "from sklearn.ensemble import RandomForestClassifier\n",
    "from sklearn.ensemble import GradientBoostingClassifier\n",
    "from sklearn.model_selection import GridSearchCV\n",
    "from sklearn.feature_extraction.text import CountVectorizer\n",
    "from sklearn.feature_extraction.text import TfidfVectorizer\n",
    "\n",
    "from sklearn.model_selection import train_test_split"
   ]
  },
  {
   "cell_type": "markdown",
   "id": "939c4f80",
   "metadata": {},
   "source": [
    "### Load Dataset \n",
    "\n",
    "    - 5000개로 Dataset을 줄였습니다.  (train : 3000 / test : 2000) \n",
    "    \n",
    "        5000개의 작은 데이터만 사용했음에도 Random Forest, SVM, Gradient Boosting Classifier의 성능을 잘 비교할 수 있었습니다.\n",
    "    "
   ]
  },
  {
   "cell_type": "code",
   "execution_count": 69,
   "id": "78a41372",
   "metadata": {},
   "outputs": [],
   "source": [
    "data = pd.read_csv('./data/movie_data.csv', sep = ',')\n",
    "\n",
    "data = data.sample(frac = 1) # Data Shuffle \n",
    "data = data[:5000]"
   ]
  },
  {
   "cell_type": "markdown",
   "id": "242737a2",
   "metadata": {},
   "source": [
    "### Data Preprocessing\n",
    "\n",
    "       1. Remove Stopwords\n",
    "       2. Remove Punctuation\n",
    "       3. Tokenize\n",
    "       4. lmemmatization"
   ]
  },
  {
   "cell_type": "code",
   "execution_count": 70,
   "id": "d1ac0a4a",
   "metadata": {
    "scrolled": true
   },
   "outputs": [],
   "source": [
    "#Processing\n",
    "stopwords = nltk.corpus.stopwords.words('english')\n",
    "ps = nltk.WordNetLemmatizer()\n",
    "\n",
    "def clean_text(text):\n",
    "    # Remove Punctuation\n",
    "    text = ''.join([word.lower() for word in text if word not in string.punctuation])\n",
    "    # make Token\n",
    "    tokens = re.split('\\W+', text)\n",
    "    # Remove StopWords and make Stem\n",
    "    text = [ps.lemmatize(word) for word in tokens if word not in stopwords]\n",
    "    return text"
   ]
  },
  {
   "cell_type": "markdown",
   "id": "78ba5b19",
   "metadata": {},
   "source": [
    "### Vetorization \n",
    "\n",
    "    - TFIDF 사용"
   ]
  },
  {
   "cell_type": "code",
   "execution_count": 71,
   "id": "653b504e",
   "metadata": {},
   "outputs": [
    {
     "name": "stderr",
     "output_type": "stream",
     "text": [
      "C:\\Users\\USER\\anaconda3\\envs\\torch_env\\lib\\site-packages\\sklearn\\utils\\deprecation.py:87: FutureWarning: Function get_feature_names is deprecated; get_feature_names is deprecated in 1.0 and will be removed in 1.2. Please use get_feature_names_out instead.\n",
      "  warnings.warn(msg, category=FutureWarning)\n"
     ]
    }
   ],
   "source": [
    "# Vectorization -- TF-IDF \n",
    "TFIDF_Vect = TfidfVectorizer(analyzer = clean_text)\n",
    "X_TFIDF = TFIDF_Vect.fit_transform(data['review'])\n",
    "X_TFIDF_pd = pd.DataFrame(X_TFIDF.toarray(), columns = TFIDF_Vect.get_feature_names())"
   ]
  },
  {
   "cell_type": "markdown",
   "id": "048fe1e5",
   "metadata": {},
   "source": [
    "### Train / Test set Split "
   ]
  },
  {
   "cell_type": "code",
   "execution_count": 116,
   "id": "71853ab8",
   "metadata": {},
   "outputs": [
    {
     "data": {
      "text/plain": [
       "(5000, 46468)"
      ]
     },
     "execution_count": 116,
     "metadata": {},
     "output_type": "execute_result"
    }
   ],
   "source": [
    "X_TFIDF_pd.shape"
   ]
  },
  {
   "cell_type": "code",
   "execution_count": 78,
   "id": "0d3af040",
   "metadata": {},
   "outputs": [],
   "source": [
    "x_train , y_train = X_TFIDF_pd[:3000] , data['sentiment'][:3000]\n",
    "x_test , y_test = X_TFIDF_pd[3000:], data['sentiment'][3000:]"
   ]
  },
  {
   "cell_type": "markdown",
   "id": "292e51b0",
   "metadata": {},
   "source": [
    "## Train Models : RF / SVM / GBC"
   ]
  },
  {
   "cell_type": "markdown",
   "id": "b468818e",
   "metadata": {},
   "source": [
    "### Random Forest"
   ]
  },
  {
   "cell_type": "code",
   "execution_count": 79,
   "id": "033942b4",
   "metadata": {
    "scrolled": true
   },
   "outputs": [],
   "source": [
    "warnings.filterwarnings('ignore', category = DeprecationWarning)\n",
    "\n",
    "rf = RandomForestClassifier()\n",
    "param = {'n_estimators' : [10, 150, 300],\n",
    "         'max_depth' : [30, 60, 90, None]}\n",
    "\n",
    "gs = GridSearchCV(rf, param, cv = 3, n_jobs =4)\n",
    "gs_fit = gs.fit(x_train, y_train)\n",
    "result1 = pd.DataFrame(gs_fit.cv_results_).sort_values('mean_test_score', ascending = False)"
   ]
  },
  {
   "cell_type": "code",
   "execution_count": 80,
   "id": "b6f3d43d",
   "metadata": {},
   "outputs": [
    {
     "name": "stdout",
     "output_type": "stream",
     "text": [
      "Mean Test Scores  : Random Forest ...  -----   [0.824, 0.8196666666666667, 0.816, 0.816, 0.8143333333333334]\n"
     ]
    }
   ],
   "source": [
    "rf_scores = result1['mean_test_score']\n",
    "print(\"Mean Test Scores  : Random Forest ...  -----  \" , list(rf_scores)[:5])"
   ]
  },
  {
   "cell_type": "markdown",
   "id": "c7b5433d",
   "metadata": {},
   "source": [
    "### SVM "
   ]
  },
  {
   "cell_type": "code",
   "execution_count": 81,
   "id": "96637f61",
   "metadata": {},
   "outputs": [],
   "source": [
    "svc = SVC(kernel = 'rbf' , probability=True)\n",
    "param = {'gamma' : [0.1, 0.5, 1],\n",
    "         'C' : [1, 5, 10]}\n",
    "\n",
    "gs2 = GridSearchCV(svc, param, cv = 3, n_jobs = 4)\n",
    "gs_fit2 = gs2.fit(x_train, y_train)\n",
    "result2 = pd.DataFrame(gs_fit2.cv_results_).sort_values('mean_test_score', ascending = False)"
   ]
  },
  {
   "cell_type": "code",
   "execution_count": 82,
   "id": "59e16526",
   "metadata": {},
   "outputs": [
    {
     "name": "stdout",
     "output_type": "stream",
     "text": [
      "Mean Test Scores ...  :  [0.844, 0.844, 0.8433333333333334, 0.8426666666666667, 0.8426666666666667]\n"
     ]
    }
   ],
   "source": [
    "svm_scores = result2['mean_test_score']\n",
    "print(\"Mean Test Scores ...  : \" , list(svm_scores)[:5])"
   ]
  },
  {
   "cell_type": "markdown",
   "id": "6e5c5c44",
   "metadata": {},
   "source": [
    "### Gradient Boosting Classifier"
   ]
  },
  {
   "cell_type": "code",
   "execution_count": 83,
   "id": "e02198c8",
   "metadata": {},
   "outputs": [],
   "source": [
    "gbc = GradientBoostingClassifier()\n",
    "param = {'n_estimators' : [10, 50, 100, 200, 400]}\n",
    "\n",
    "gs3 = GridSearchCV(gbc, param, cv = 3, n_jobs = 4)\n",
    "gs_fit3 = gs3.fit(x_train, y_train)\n",
    "result3 = pd.DataFrame(gs_fit3.cv_results_).sort_values('mean_test_score', ascending = False)"
   ]
  },
  {
   "cell_type": "code",
   "execution_count": 84,
   "id": "d1ef239e",
   "metadata": {},
   "outputs": [
    {
     "name": "stdout",
     "output_type": "stream",
     "text": [
      "Mean Test Scores ...  :  [0.8016666666666667, 0.7923333333333334, 0.7763333333333334, 0.7623333333333333, 0.6863333333333334]\n"
     ]
    }
   ],
   "source": [
    "gb_scores = result3['mean_test_score']\n",
    "print(\"Mean Test Scores ...  : \" , list(gb_scores)[:5])"
   ]
  },
  {
   "cell_type": "markdown",
   "id": "23f5a67a",
   "metadata": {},
   "source": [
    "## Compare Result "
   ]
  },
  {
   "cell_type": "code",
   "execution_count": 101,
   "id": "866f256e",
   "metadata": {},
   "outputs": [],
   "source": [
    "rf_scores = result1['mean_test_score']\n",
    "svm_scores = result2['mean_test_score']\n",
    "gb_scores = result3['mean_test_score']"
   ]
  },
  {
   "cell_type": "markdown",
   "id": "14e748c2",
   "metadata": {},
   "source": [
    "### Best Parameters "
   ]
  },
  {
   "cell_type": "code",
   "execution_count": 105,
   "id": "94dc5fbf",
   "metadata": {},
   "outputs": [
    {
     "name": "stdout",
     "output_type": "stream",
     "text": [
      "RF  Best Parameters :  {'max_depth': 30, 'n_estimators': 10}\n",
      "SVM Best Parameters :  {'C': 1, 'gamma': 0.1}\n",
      "GBC Best Parameters :  {'n_estimators': 10}\n"
     ]
    }
   ],
   "source": [
    "rf_scores = np.array(rf_scores)\n",
    "svm_scores = np.array(svm_scores)\n",
    "gb_scores = np.array(gb_scores)\n",
    "\n",
    "print(\"RF  Best Parameters : \",result1.params[0])\n",
    "print(\"SVM Best Parameters : \",result2.params[0])\n",
    "print(\"GBC Best Parameters : \",result3.params[0])"
   ]
  },
  {
   "cell_type": "markdown",
   "id": "9f5d629e",
   "metadata": {},
   "source": [
    "### Best Train Result"
   ]
  },
  {
   "cell_type": "code",
   "execution_count": 113,
   "id": "85168c0a",
   "metadata": {},
   "outputs": [
    {
     "name": "stdout",
     "output_type": "stream",
     "text": [
      "RF  :  0.824\n",
      "SVM :  0.844\n",
      "GBC :  0.8016666666666667\n"
     ]
    }
   ],
   "source": [
    "print(\"RF  : \", rf_scores[0])\n",
    "print(\"SVM : \", svm_scores[0])\n",
    "print(\"GBC : \", gb_scores[0])"
   ]
  },
  {
   "cell_type": "code",
   "execution_count": 114,
   "id": "28ec7cb8",
   "metadata": {},
   "outputs": [
    {
     "data": {
      "image/png": "[encoded data removed]",
      "text/plain": [
       "<Figure size 432x288 with 1 Axes>"
      ]
     },
     "metadata": {
      "needs_background": "light"
     },
     "output_type": "display_data"
    }
   ],
   "source": [
    "%matplotlib inline\n",
    "\n",
    "plt.figure()\n",
    "plt.scatter(np.arange(len(rf_scores)), rf_scores, c = 'r')\n",
    "plt.scatter(np.arange(len(svm_scores)), svm_scores, c = 'b')\n",
    "plt.scatter(np.arange(len(gb_scores)), gb_scores, c = 'g')\n",
    "plt.legend([\"RandomForest\", \"SVM\", \"GBC\"])\n",
    "\n",
    "plt.show()"
   ]
  },
  {
   "cell_type": "markdown",
   "id": "6fffdce6",
   "metadata": {},
   "source": [
    "왼쪽 순으로 높은 Score ... "
   ]
  },
  {
   "cell_type": "markdown",
   "id": "18f94e44",
   "metadata": {},
   "source": [
    "### Test Models "
   ]
  },
  {
   "cell_type": "code",
   "execution_count": 91,
   "id": "aeb6e5e0",
   "metadata": {},
   "outputs": [],
   "source": [
    "rf_test_score = gs_fit.score(x_test, y_test)\n",
    "svm_test_score = gs_fit2.score(x_test, y_test)\n",
    "gb_test_score = gs_fit3.score(x_test, y_test)"
   ]
  },
  {
   "cell_type": "markdown",
   "id": "8c7ecfd4",
   "metadata": {},
   "source": [
    "### Test Score"
   ]
  },
  {
   "cell_type": "code",
   "execution_count": 111,
   "id": "b3a98f1d",
   "metadata": {},
   "outputs": [
    {
     "name": "stdout",
     "output_type": "stream",
     "text": [
      "# ---Test Score--- #\n",
      "RF  :  0.8385\n",
      "SVM :  0.86\n",
      "GBC :  0.808\n"
     ]
    }
   ],
   "source": [
    "print(\"# ---Test Score--- #\")\n",
    "print(\"RF  : \", rf_test_score)\n",
    "print(\"SVM : \", svm_test_score)\n",
    "print(\"GBC : \", gb_test_score)"
   ]
  },
  {
   "cell_type": "code",
   "execution_count": 112,
   "id": "ae0dc89c",
   "metadata": {},
   "outputs": [
    {
     "data": {
      "image/png": "[encoded data removed]",
      "text/plain": [
       "<Figure size 432x288 with 1 Axes>"
      ]
     },
     "metadata": {
      "needs_background": "light"
     },
     "output_type": "display_data"
    }
   ],
   "source": [
    "%matplotlib inline\n",
    "plt.figure()\n",
    "plt.scatter(1, rf_test_score, c = 'r')\n",
    "plt.scatter(1, svm_test_score, c = 'b')\n",
    "plt.scatter(1, gb_test_score, c = 'g')\n",
    "plt.legend([\"RandomForest\", \"SVM\", \"GBC\"])\n",
    "plt.show()"
   ]
  },
  {
   "cell_type": "markdown",
   "id": "bbef20f8",
   "metadata": {},
   "source": [
    "### Result and Discussion\n",
    "\n",
    "3000개의 데이터를 이용하여 학습한 결과를 Visualize해보았다.  \n",
    "\n",
    "Test 성능 : `SVM > Random Forest > Gradient Boosting Classifier`  \n",
    "연산 속도 : `Random Forest > SVM >> Gradient Boosting Classifier`\n",
    "\n",
    "해당 결과에 대한 개인적인 생각은 다음과 같다. \n",
    "\n",
    "우선 TF IDF 처리에 의해 feature의 개수가 매우 많아졌다.  \n",
    "50000개의 데이터 중 5000개의 데이터만 이용하였음에도 feature 개수가 46468개로 임을 알 수 있고, 50000개 데이터를 모두 사용하였을 경우 16만개 이상의 feature가 생성된다.\n",
    "\n",
    "따라서 차원의 저주를 일으키고, 충분한 양의 데이터 Sample을 가지고 훈련시키지 않는다면 제대로 훈련되지 않을 것을 유추할 수 있다.\n",
    "\n",
    "---\n",
    "\n",
    "`SVM`\n",
    "\n",
    "매우 많은 feature를 학습해야 하므로, Non-Linear SVM으로 rbf Kernel을 사용하였다. \n",
    "rbf Kernel의 특성상 매우 많은 차원의 feature를 충분히 근사시켜 좋은 결과를 낼 수 있을 것이라 생각했고, 실제 출력 결과 또한 매우 준수했다.\n",
    "\n",
    "`Random Forest and Gradient Boosting Classifier`\n",
    "\n",
    "Nonlinear한 데이터를 학습하는데 좋은 모델들이지만, SVM 보다는 그 성능이 낮았다. \n",
    "\n",
    "GBC와 Random Forest는 동일하게 앙상블 기법을 이용한 모델이지만 서로 성능 차이가 두드러지게 나타났다. GBC와 RF의 차이점이라고 한다면 GBC는 이전에 학습한 모델이 다음 학습되는 모델에 영향을 주는 Boosting 기법을 , RF는 Bagging 기법을 사용한다는 것이다.\n",
    "\n",
    "해당 데이터 셋에 대해서는 bagging 기법을 사용한 Random forest가 더 좋은 성능을 보인다는 뜻 인데, 이에 대한 이유를 생각해보았다.\n",
    "\n",
    "우선 Bagging 기법을 사용한 모델은 안정성과 정확성을 향상시키는 데에 초점을 맞춘다.\n",
    "즉, 높은 bias로 인한 Underfitting과 높은 Variance로 인한 Overfitting에 대한 문제를 해결하기 위한 방법인데, 각 훈련 모델에서 나타난 결과를 일종의 중간 값으로 맞추어 주기 때문에 위 두 가지 문제들에 대한 해답으로 선택됬다.\n",
    "\n",
    "다음으로 Boosting 기법은 풀기 어려운 문제에 초점이 맞추어진 알고리즘이다.\n",
    "해당 알고리즘은 이전에 틀렸던 문제에 대해 가중치를 부여하게 되는데, 동시에 정답에 대해서는 낮은 가중치를 부여한다. 따라서 오답에 더욱 집중할 수 있게 된다.\n",
    "\n",
    "따라서 정확도가 높게 나타난다. 하지만 그와 동시에 Outliar에 취약하게 된다.\n",
    "\n",
    "\n",
    "---\n",
    "\n",
    "\n",
    "위 두 가지 기법의 특징으로 미루어보아, 우리가 다루는 dataset의 feature의 수가 많은 만큼 Underfitting의 위험도가 높다. 즉, Bagging 기법이 bias와 variance를 보정하는데 \n",
    "큰 역할을 할 수 있는 환경이다. \n",
    "\n",
    "반대로 Boosting 기법의 측면에서 우리가 다루는 dataset의 feature들은 각각 매우 높은 차원의 데이터이기에 하나하나가 outliar처럼 보일 가능성이 매우 높다.\n",
    "따라서 해당 모델의 취약점인 Ouliar를 다루는 부분 때문에 성능이 그다지 높지 않게 나온 것으로 추측되는 바이다."
   ]
  },
  {
   "cell_type": "markdown",
   "id": "8735cd70",
   "metadata": {},
   "source": [
    "### 고찰\n",
    "\n",
    "이번 과제를 진행하며 매우 많은 Feature를 가진 dataset을 다룰 때 어떤 모델을 선택하는 것이 좋은 지에 대한 Insight를 얻게 되었다.\n",
    "\n",
    "또한 하나의 모델이라 하여도, 내부 Parameter를 어떻게 선정하느냐가 매우 중요한 Issue가 될 수 있기에, 모델 검증 부분에서 Grid Search와 같은 방법이 꼭 필요하다고 느꼈다.\n",
    "\n",
    "마찬가지로 같은 조건에 대해서 보다 일반적인 성능을 확인하기 위해 Cross validation 또한 중요하다고 생각한다.\n",
    "\n",
    "\n"
   ]
  },
  {
   "cell_type": "code",
   "execution_count": null,
   "id": "6cdaff28",
   "metadata": {},
   "outputs": [],
   "source": []
  }
 ],
 "metadata": {
  "kernelspec": {
   "display_name": "torch_env",
   "language": "python",
   "name": "torch_env"
  },
  "language_info": {
   "codemirror_mode": {
    "name": "ipython",
    "version": 3
   },
   "file_extension": ".py",
   "mimetype": "text/x-python",
   "name": "python",
   "nbconvert_exporter": "python",
   "pygments_lexer": "ipython3",
   "version": "3.7.11"
  }
 },
 "nbformat": 4,
 "nbformat_minor": 5
}
