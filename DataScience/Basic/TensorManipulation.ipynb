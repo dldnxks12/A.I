{
  "nbformat": 4,
  "nbformat_minor": 0,
  "metadata": {
    "colab": {
      "name": "TensorManipulation.ipynb",
      "private_outputs": true,
      "provenance": []
    },
    "kernelspec": {
      "name": "python3",
      "display_name": "Python 3"
    },
    "language_info": {
      "name": "python"
    }
  },
  "cells": [
    {
      "cell_type": "markdown",
      "metadata": {
        "id": "bEpiJqFaY6Zw"
      },
      "source": [
        "-  Rank : 데이터를 읽어나갈 방향의 개수 \n",
        "\n",
        "    선형대수에서 Rank는 한 matrix에서 서로 선형독립인 Vector들의 개수라고 했다. \n",
        "    다시 말하면 각 Vector들이 선형 독립이라면 만들어내는 차원의 개수가 벡터의 개수와 같다."
      ]
    },
    {
      "cell_type": "markdown",
      "metadata": {
        "id": "HtWjlpWBazrU"
      },
      "source": [
        "-  Shape : Rank를 얻었을 때, 각 Rank의 방향에 대해서 몇 개의 데이터를 읽을 수 있는지"
      ]
    },
    {
      "cell_type": "markdown",
      "metadata": {
        "id": "N0RIdKhCabah"
      },
      "source": [
        "- Axis \n",
        "\n",
        "Axis 0 : 데이터를 셀 때 , 가장 바깥쪽 바구니     (가장 큰 덩어리를 셈)  \n",
        "Axis 1 : 그 다음 바구니  (그 다음으로 큰 덩어리를 셈)  \n",
        "Axis 2 : 그 다음 바구니  (그 다음으로 큰 덩어리를 셈)  "
      ]
    },
    {
      "cell_type": "code",
      "metadata": {
        "id": "oxcT6iU3beJH"
      },
      "source": [
        "import numpy as np\n",
        "import torch"
      ],
      "execution_count": null,
      "outputs": []
    },
    {
      "cell_type": "code",
      "metadata": {
        "id": "UilVrmqWd9cm"
      },
      "source": [
        "tensor = torch.FloatTensor([1,2,3,4])"
      ],
      "execution_count": null,
      "outputs": []
    },
    {
      "cell_type": "code",
      "metadata": {
        "id": "6lcsakk9eA6w"
      },
      "source": [
        "print(tensor)\n",
        "print(tensor.shape)\n",
        "print(tensor[:3])"
      ],
      "execution_count": null,
      "outputs": []
    },
    {
      "cell_type": "code",
      "metadata": {
        "id": "MiB1lEqDeEpb"
      },
      "source": [
        "tensor3d = torch.FloatTensor([  [[1,2,3,4],\n",
        "                                [5,6,7,8],\n",
        "                                [9,10,11,12]],\n",
        "\n",
        "                                [[13,14,15,16],\n",
        "                                 [17,18,19,20],\n",
        "                                 [20,21,22,23]]\n",
        "                              ])\n",
        "print(tensor3d)\n",
        "print(tensor3d.shape)"
      ],
      "execution_count": null,
      "outputs": []
    },
    {
      "cell_type": "markdown",
      "metadata": {
        "id": "XUJgg2pKefbK"
      },
      "source": [
        "- Concatenate : 경계를 허물고 이어 붙이기 (합치기)\n",
        "- Stack : 경계를 허물지 않고 이어 붙이기 (더 큰 꾸러미로 묶기)"
      ]
    },
    {
      "cell_type": "code",
      "metadata": {
        "id": "aGzgYKRVeg-U"
      },
      "source": [
        "x = torch.FloatTensor( [ [1,2] , [3,4]])\n",
        "y = torch.FloatTensor( [ [5,6] , [7,8]])\n",
        "print(x.shape)\n",
        "print(y.shape)\n",
        "\n",
        "# dim : axis를 뜻함 \n",
        "print(torch.cat([x,y], dim = 0)) # dim = 0 : 가장 큰 꾸러미\n",
        "print(torch.cat([x,y], dim = 1)) # dim = 1 : 그 다음으로 큰 꾸러미 "
      ],
      "execution_count": null,
      "outputs": []
    },
    {
      "cell_type": "code",
      "metadata": {
        "id": "N1KY7sghiJ1A"
      },
      "source": [
        "# Stack을 하게 되면 무조건 Rank가 하나 늘어난다. \n",
        "print(torch.stack([x,y], dim = 0 )) # 경계를 허물지 않음 : 더 큰 꾸러미로 묶기 \n",
        "print(torch.stack([x,y], dim = 1 )) # 경계를 허물지 않음 : 더 큰 꾸러미로 묶기 "
      ],
      "execution_count": null,
      "outputs": []
    },
    {
      "cell_type": "markdown",
      "metadata": {
        "id": "XewiBqNBei6O"
      },
      "source": [
        "Data의 내용물은 유지하고, Rank or Axix의 길이를 조절한다. (Shape 변경)\n",
        "\n",
        "- View \n",
        "- Reshape"
      ]
    },
    {
      "cell_type": "code",
      "metadata": {
        "id": "nDro40qOhm9I"
      },
      "source": [
        "x = torch.rand(2,3,4)  # shape : [2,3,4]\n",
        "y = x.view(2,-1)\n",
        "z = x.reshape(2,-1)\n",
        "print(x)\n",
        "print()\n",
        "print(y)\n",
        "print(z)\n",
        "z[0] = 0\n",
        "print(x) # Original 바뀐다 -- 복사본이 아니라, 포인터를 가져옴 (Call by reference)"
      ],
      "execution_count": null,
      "outputs": []
    },
    {
      "cell_type": "markdown",
      "metadata": {
        "id": "YFoUjCL9iyen"
      },
      "source": [
        "- Squeeze : 불필요한 Rank 제거 "
      ]
    },
    {
      "cell_type": "markdown",
      "metadata": {
        "id": "tH-FnjSejOGE"
      },
      "source": [
        "### Tensor Operation : Eelement wise \n",
        "\n",
        "- Transpose : Rank가 2 이상인 Tensor에 대해서만 사용가능 \n",
        "\n",
        "        Axis 순서 : 0 1 2 3 -> 3 2 1 0 으로 변화\n",
        "\n",
        "- Dot product : 행렬 곱 \n",
        "- Mean, Sum, Max : Axis 별로 수행 가능\n",
        "\n",
        "\n"
      ]
    },
    {
      "cell_type": "code",
      "metadata": {
        "id": "KyUx5RjbjveL"
      },
      "source": [
        ""
      ],
      "execution_count": null,
      "outputs": []
    }
  ]
}